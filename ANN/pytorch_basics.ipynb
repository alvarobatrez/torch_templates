{
 "cells": [
  {
   "cell_type": "code",
   "execution_count": null,
   "id": "a46dfa45-8a38-414f-a3d8-662769ca0159",
   "metadata": {},
   "outputs": [],
   "source": [
    "import torch"
   ]
  },
  {
   "cell_type": "code",
   "execution_count": null,
   "id": "d6ec25ac-3197-49a9-9b4b-1bba09034d61",
   "metadata": {},
   "outputs": [],
   "source": [
    "import numpy as np"
   ]
  },
  {
   "cell_type": "code",
   "execution_count": null,
   "id": "7e835fc2-3882-4205-b709-acf8dafe20b7",
   "metadata": {},
   "outputs": [],
   "source": [
    "torch.__version__"
   ]
  },
  {
   "cell_type": "code",
   "execution_count": null,
   "id": "0ebfdfc0-f1c6-4716-80ff-62efa7a07a2a",
   "metadata": {},
   "outputs": [],
   "source": [
    "arr = np.array([1,2,3,4,5])\n",
    "print(arr)"
   ]
  },
  {
   "cell_type": "code",
   "execution_count": null,
   "id": "727066d8-086b-4ba9-ab8d-b7512224645c",
   "metadata": {},
   "outputs": [],
   "source": [
    "arr.dtype"
   ]
  },
  {
   "cell_type": "code",
   "execution_count": null,
   "id": "79935244-ab2a-47d1-ba1d-68405ffdff86",
   "metadata": {},
   "outputs": [],
   "source": [
    "type(arr)"
   ]
  },
  {
   "cell_type": "code",
   "execution_count": null,
   "id": "ed044221-dba9-4c67-8676-1d8189d955e1",
   "metadata": {},
   "outputs": [],
   "source": [
    "x = torch.from_numpy(arr)"
   ]
  },
  {
   "cell_type": "code",
   "execution_count": null,
   "id": "3808f6a0-34e3-45d3-9521-7e1dc418564d",
   "metadata": {},
   "outputs": [],
   "source": [
    "type(x)"
   ]
  },
  {
   "cell_type": "code",
   "execution_count": null,
   "id": "173f4072-8430-48cd-a9a5-c4ac9f6f764d",
   "metadata": {},
   "outputs": [],
   "source": [
    "torch.as_tensor(arr)"
   ]
  },
  {
   "cell_type": "code",
   "execution_count": null,
   "id": "ae892ee5-5c44-4223-9665-0a1010dea386",
   "metadata": {},
   "outputs": [],
   "source": [
    "x.dtype"
   ]
  },
  {
   "cell_type": "code",
   "execution_count": null,
   "id": "2ff9f8c8-cbd5-4b42-806e-55961b9b557b",
   "metadata": {},
   "outputs": [],
   "source": [
    "arr2d = np.arange(0.0,12.0)\n",
    "arr2d = arr2d.reshape(4,3)"
   ]
  },
  {
   "cell_type": "code",
   "execution_count": null,
   "id": "92333dca-ea9f-4102-aa57-603b9c9ce0cf",
   "metadata": {},
   "outputs": [],
   "source": [
    "x2 = torch.from_numpy(arr2d)"
   ]
  },
  {
   "cell_type": "code",
   "execution_count": null,
   "id": "45612e65-aace-4680-865f-e6ffe2d7022f",
   "metadata": {},
   "outputs": [],
   "source": [
    "x2"
   ]
  },
  {
   "cell_type": "code",
   "execution_count": null,
   "id": "12e99340-c911-4949-ab23-fa226430c3bc",
   "metadata": {},
   "outputs": [],
   "source": [
    "arr[0] = 99"
   ]
  },
  {
   "cell_type": "code",
   "execution_count": null,
   "id": "5a6cbaa5-a2fd-4ea1-9e36-f6534e052826",
   "metadata": {},
   "outputs": [],
   "source": [
    "arr"
   ]
  },
  {
   "cell_type": "code",
   "execution_count": null,
   "id": "052a865b-eef5-49a9-8987-8f9ccde7ec3e",
   "metadata": {},
   "outputs": [],
   "source": [
    "my_arr = np.arange(0,10)"
   ]
  },
  {
   "cell_type": "code",
   "execution_count": null,
   "id": "727c49db-fba3-45d7-86cc-f3e0c7128114",
   "metadata": {},
   "outputs": [],
   "source": [
    "my_arr"
   ]
  },
  {
   "cell_type": "code",
   "execution_count": null,
   "id": "0c384dd9-8544-459a-880c-b25e31a18d43",
   "metadata": {},
   "outputs": [],
   "source": [
    "my_tensor = torch.tensor(my_arr)"
   ]
  },
  {
   "cell_type": "code",
   "execution_count": null,
   "id": "f9b21d78-579d-4fa7-8364-dd58e72245c2",
   "metadata": {},
   "outputs": [],
   "source": [
    "my_tensor"
   ]
  },
  {
   "cell_type": "code",
   "execution_count": null,
   "id": "b0480b9c-1b61-4f22-b59d-228804a0db2d",
   "metadata": {},
   "outputs": [],
   "source": [
    "my_tensor2 = torch.from_numpy(my_arr)"
   ]
  },
  {
   "cell_type": "code",
   "execution_count": null,
   "id": "5221624d-a8ed-4efd-b317-613685b6c374",
   "metadata": {},
   "outputs": [],
   "source": [
    "my_tensor2"
   ]
  },
  {
   "cell_type": "code",
   "execution_count": null,
   "id": "cffb52fe-9728-4d71-be76-5ffbc3c4ed67",
   "metadata": {},
   "outputs": [],
   "source": [
    "my_arr[0] = -1"
   ]
  },
  {
   "cell_type": "code",
   "execution_count": null,
   "id": "2a4e1187-c317-4ea7-b3f8-a1b3d836adde",
   "metadata": {},
   "outputs": [],
   "source": [
    "my_tensor"
   ]
  },
  {
   "cell_type": "code",
   "execution_count": null,
   "id": "181148ae-d8bc-4343-9088-773a1fe0749e",
   "metadata": {},
   "outputs": [],
   "source": [
    "my_tensor2"
   ]
  },
  {
   "cell_type": "code",
   "execution_count": null,
   "id": "62c41e3e-d912-45dc-bd9c-e50afbb21850",
   "metadata": {},
   "outputs": [],
   "source": []
  }
 ],
 "metadata": {
  "kernelspec": {
   "display_name": "Python 3 (ipykernel)",
   "language": "python",
   "name": "python3"
  },
  "language_info": {
   "codemirror_mode": {
    "name": "ipython",
    "version": 3
   },
   "file_extension": ".py",
   "mimetype": "text/x-python",
   "name": "python",
   "nbconvert_exporter": "python",
   "pygments_lexer": "ipython3",
   "version": "3.10.14"
  }
 },
 "nbformat": 4,
 "nbformat_minor": 5
}
